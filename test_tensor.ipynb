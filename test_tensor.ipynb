{
 "cells": [
  {
   "cell_type": "code",
   "execution_count": 1,
   "metadata": {},
   "outputs": [],
   "source": [
    "import torch"
   ]
  },
  {
   "cell_type": "code",
   "execution_count": 27,
   "metadata": {},
   "outputs": [
    {
     "data": {
      "text/plain": [
       "tensor([[1, 2, 3],\n",
       "        [1, 2, 3],\n",
       "        [1, 2, 3],\n",
       "        [1, 2, 3],\n",
       "        [1, 2, 3]])"
      ]
     },
     "execution_count": 27,
     "metadata": {},
     "output_type": "execute_result"
    }
   ],
   "source": [
    "torch.arange(1, 4).unsqueeze(0).repeat(5,1)   #unsqueeze(1).size()"
   ]
  },
  {
   "cell_type": "code",
   "execution_count": 4,
   "metadata": {},
   "outputs": [],
   "source": [
    "a=torch.tensor([[1, 2, 3], [4,5,6]])"
   ]
  },
  {
   "cell_type": "code",
   "execution_count": 5,
   "metadata": {},
   "outputs": [
    {
     "data": {
      "text/plain": [
       "tensor([[1, 2, 3],\n",
       "        [4, 5, 6]])"
      ]
     },
     "execution_count": 5,
     "metadata": {},
     "output_type": "execute_result"
    }
   ],
   "source": [
    "a"
   ]
  },
  {
   "cell_type": "code",
   "execution_count": 6,
   "metadata": {},
   "outputs": [
    {
     "data": {
      "text/plain": [
       "tensor([[ 1,  4,  9],\n",
       "        [16, 25, 36]])"
      ]
     },
     "execution_count": 6,
     "metadata": {},
     "output_type": "execute_result"
    }
   ],
   "source": [
    "a * a"
   ]
  },
  {
   "cell_type": "code",
   "execution_count": 7,
   "metadata": {},
   "outputs": [
    {
     "data": {
      "text/plain": [
       "tensor([[14, 32],\n",
       "        [32, 77]])"
      ]
     },
     "execution_count": 7,
     "metadata": {},
     "output_type": "execute_result"
    }
   ],
   "source": [
    "a @ a.t()"
   ]
  },
  {
   "cell_type": "code",
   "execution_count": 8,
   "metadata": {},
   "outputs": [
    {
     "data": {
      "text/plain": [
       "tensor([[[1, 2, 3, 1, 2, 3],\n",
       "         [4, 5, 6, 4, 5, 6]]])"
      ]
     },
     "execution_count": 8,
     "metadata": {},
     "output_type": "execute_result"
    }
   ],
   "source": [
    "a.repeat(1,1,2)"
   ]
  },
  {
   "cell_type": "code",
   "execution_count": 9,
   "metadata": {},
   "outputs": [],
   "source": [
    "# https://stackoverflow.com/questions/49643225/whats-the-difference-between-reshape-and-view-in-pytorch"
   ]
  },
  {
   "cell_type": "code",
   "execution_count": 2,
   "metadata": {},
   "outputs": [
    {
     "name": "stdout",
     "output_type": "stream",
     "text": [
      "Un GPU est disponible\n"
     ]
    }
   ],
   "source": [
    "import minamp as mn"
   ]
  },
  {
   "cell_type": "code",
   "execution_count": 42,
   "metadata": {},
   "outputs": [
    {
     "name": "stdout",
     "output_type": "stream",
     "text": [
      "Un GPU est disponible\n"
     ]
    },
    {
     "data": {
      "text/plain": [
       "<module 'minamp' from 'c:\\\\Users\\\\herve\\\\OneDrive\\\\Projet\\\\MinAmp\\\\minamp.py'>"
      ]
     },
     "execution_count": 42,
     "metadata": {},
     "output_type": "execute_result"
    }
   ],
   "source": [
    "import importlib\n",
    "importlib.reload(mn)"
   ]
  },
  {
   "cell_type": "code",
   "execution_count": 48,
   "metadata": {},
   "outputs": [
    {
     "name": "stdout",
     "output_type": "stream",
     "text": [
      "Hardware utilisé : cuda:0\n",
      "Métaparamètres: 256 phases (première 12), 64 sous échantillons de taille 64 (periode 1.0)\n"
     ]
    }
   ],
   "source": [
    "cadreExperimental=mn.CadreExperimental(nombrePhases=256,\\\n",
    "                premierePhase=12,\\\n",
    "                tailleSousEchantillons=64,\\\n",
    "                nombreSousEchantillons=64,\n",
    "                tailleBatch=32)"
   ]
  },
  {
   "cell_type": "code",
   "execution_count": 49,
   "metadata": {},
   "outputs": [
    {
     "data": {
      "text/plain": [
       "torch.Size([4096])"
      ]
     },
     "execution_count": 49,
     "metadata": {},
     "output_type": "execute_result"
    }
   ],
   "source": [
    "cadreExperimental.test_data.nombres.size()"
   ]
  },
  {
   "cell_type": "code",
   "execution_count": 50,
   "metadata": {},
   "outputs": [
    {
     "data": {
      "text/plain": [
       "64"
      ]
     },
     "execution_count": 50,
     "metadata": {},
     "output_type": "execute_result"
    }
   ],
   "source": [
    "cadreExperimental.training_data.__len__()"
   ]
  },
  {
   "cell_type": "code",
   "execution_count": 51,
   "metadata": {},
   "outputs": [
    {
     "data": {
      "text/plain": [
       "(tensor([0.5569, 0.3770, 0.5085, 0.5842, 0.8125, 0.0505, 0.0078, 0.2717, 0.1721,\n",
       "         0.4651, 0.6548, 0.4780, 0.1145, 0.2312, 0.9084, 0.3188, 0.4143, 0.1008,\n",
       "         0.0042, 0.2461, 0.8250, 0.2339, 0.1594, 0.2407, 0.1458, 0.6184, 0.0608,\n",
       "         0.3538, 0.8550, 0.8064, 0.6975, 0.4458, 0.2266, 0.7302, 0.8115, 0.0781,\n",
       "         0.4185, 0.9111, 0.2676, 0.5112, 0.0403, 0.0627, 0.1921, 0.2175, 0.0867,\n",
       "         0.8816, 0.8120, 0.2456, 0.6711, 0.4678, 0.9255, 0.8230, 0.9871, 0.1543,\n",
       "         0.4065, 0.7129, 0.6167, 0.8364, 0.7158, 0.6802, 0.6125, 0.3274, 0.7065,\n",
       "         0.5276]),\n",
       " tensor([0., 0., 0., 0., 0., 0., 0., 0., 0., 0., 0., 0., 0., 0., 0., 0., 0., 0., 0., 0., 0., 0., 0., 0.,\n",
       "         0., 0., 0., 0., 0., 0., 0., 0., 0., 0., 0., 0., 0., 0., 0., 0., 0., 0., 0., 0., 0., 0., 0., 0.,\n",
       "         0., 0., 0., 0., 0., 0., 0., 0., 0., 0., 0., 0., 0., 0., 0., 0.]))"
      ]
     },
     "execution_count": 51,
     "metadata": {},
     "output_type": "execute_result"
    }
   ],
   "source": [
    "cadreExperimental.training_data.__getitem__(0)"
   ]
  },
  {
   "cell_type": "code",
   "execution_count": 52,
   "metadata": {},
   "outputs": [
    {
     "name": "stdout",
     "output_type": "stream",
     "text": [
      "0\n",
      "tensor([[0.5569, 0.3770, 0.5085,  ..., 0.3274, 0.7065, 0.5276],\n",
      "        [0.6350, 0.2422, 0.0366,  ..., 0.1531, 0.8467, 0.8040],\n",
      "        [0.0818, 0.7341, 0.0583,  ..., 0.4373, 0.1226, 0.1914],\n",
      "        ...,\n",
      "        [0.2051, 0.4058, 0.7402,  ..., 0.6484, 0.0977, 0.4233],\n",
      "        [0.3391, 0.5232, 0.3811,  ..., 0.2002, 0.8274, 0.9438],\n",
      "        [0.7959, 0.3542, 0.9744,  ..., 0.4490, 0.0410, 0.4775]])\n",
      "tensor([[0., 0., 0.,  ..., 0., 0., 0.],\n",
      "        [0., 0., 0.,  ..., 0., 0., 0.],\n",
      "        [0., 0., 0.,  ..., 0., 0., 0.],\n",
      "        ...,\n",
      "        [0., 0., 0.,  ..., 0., 0., 0.],\n",
      "        [0., 0., 0.,  ..., 0., 0., 0.],\n",
      "        [0., 0., 0.,  ..., 0., 0., 0.]])\n",
      "1\n",
      "tensor([[9.3774e-01, 7.0776e-01, 9.7607e-01,  ..., 8.9014e-01, 5.7544e-01,\n",
      "         8.3008e-01],\n",
      "        [3.7329e-01, 3.8550e-01, 8.5718e-01,  ..., 4.5190e-01, 3.9331e-01,\n",
      "         1.2573e-01],\n",
      "        [6.8115e-02, 9.6875e-01, 4.7290e-01,  ..., 8.3252e-02, 8.5107e-01,\n",
      "         8.9429e-01],\n",
      "        ...,\n",
      "        [9.7046e-01, 9.3555e-01, 2.2607e-01,  ..., 8.8623e-02, 6.7920e-01,\n",
      "         8.9282e-01],\n",
      "        [7.3242e-04, 8.7402e-02, 1.6748e-01,  ..., 8.5693e-01, 5.3589e-01,\n",
      "         1.9531e-03],\n",
      "        [7.7173e-01, 1.2427e-01, 6.9556e-01,  ..., 4.4092e-01, 4.1797e-01,\n",
      "         6.0962e-01]])\n",
      "tensor([[0., 0., 0.,  ..., 0., 0., 0.],\n",
      "        [0., 0., 0.,  ..., 0., 0., 0.],\n",
      "        [0., 0., 0.,  ..., 0., 0., 0.],\n",
      "        ...,\n",
      "        [0., 0., 0.,  ..., 0., 0., 0.],\n",
      "        [0., 0., 0.,  ..., 0., 0., 0.],\n",
      "        [0., 0., 0.,  ..., 0., 0., 0.]])\n"
     ]
    }
   ],
   "source": [
    "for b, (x,y) in enumerate(cadreExperimental.train_dataloader):\n",
    "    print(b)\n",
    "    print(x)\n",
    "    print(y)"
   ]
  },
  {
   "cell_type": "code",
   "execution_count": 53,
   "metadata": {},
   "outputs": [
    {
     "data": {
      "text/plain": [
       "torch.Size([32, 64])"
      ]
     },
     "execution_count": 53,
     "metadata": {},
     "output_type": "execute_result"
    }
   ],
   "source": [
    "x.size()"
   ]
  },
  {
   "cell_type": "code",
   "execution_count": 26,
   "metadata": {},
   "outputs": [
    {
     "data": {
      "text/plain": [
       "tensor([[0.],\n",
       "        [0.],\n",
       "        [0.],\n",
       "        [0.],\n",
       "        [0.],\n",
       "        [0.],\n",
       "        [0.],\n",
       "        [0.],\n",
       "        [0.],\n",
       "        [0.],\n",
       "        [0.],\n",
       "        [1.],\n",
       "        [1.],\n",
       "        [1.],\n",
       "        [1.],\n",
       "        [1.],\n",
       "        [1.],\n",
       "        [1.],\n",
       "        [1.],\n",
       "        [1.],\n",
       "        [1.],\n",
       "        [1.],\n",
       "        [1.],\n",
       "        [1.],\n",
       "        [1.],\n",
       "        [1.],\n",
       "        [1.],\n",
       "        [1.],\n",
       "        [1.],\n",
       "        [1.],\n",
       "        [1.],\n",
       "        [1.],\n",
       "        [1.],\n",
       "        [1.],\n",
       "        [1.],\n",
       "        [1.],\n",
       "        [1.],\n",
       "        [1.],\n",
       "        [1.],\n",
       "        [1.],\n",
       "        [1.],\n",
       "        [1.],\n",
       "        [1.],\n",
       "        [1.],\n",
       "        [1.],\n",
       "        [1.],\n",
       "        [1.],\n",
       "        [1.],\n",
       "        [1.],\n",
       "        [1.],\n",
       "        [1.],\n",
       "        [1.],\n",
       "        [1.],\n",
       "        [1.],\n",
       "        [1.],\n",
       "        [1.],\n",
       "        [1.],\n",
       "        [1.],\n",
       "        [1.],\n",
       "        [1.],\n",
       "        [1.],\n",
       "        [1.],\n",
       "        [1.],\n",
       "        [1.],\n",
       "        [1.],\n",
       "        [1.],\n",
       "        [1.],\n",
       "        [1.],\n",
       "        [1.],\n",
       "        [1.],\n",
       "        [1.],\n",
       "        [1.],\n",
       "        [1.],\n",
       "        [1.],\n",
       "        [1.],\n",
       "        [1.],\n",
       "        [1.],\n",
       "        [1.],\n",
       "        [1.],\n",
       "        [1.],\n",
       "        [1.],\n",
       "        [1.],\n",
       "        [1.],\n",
       "        [1.],\n",
       "        [1.],\n",
       "        [1.],\n",
       "        [1.],\n",
       "        [1.],\n",
       "        [1.],\n",
       "        [1.],\n",
       "        [1.],\n",
       "        [1.],\n",
       "        [1.],\n",
       "        [1.],\n",
       "        [1.],\n",
       "        [1.],\n",
       "        [1.],\n",
       "        [1.],\n",
       "        [1.],\n",
       "        [1.],\n",
       "        [1.],\n",
       "        [1.],\n",
       "        [1.],\n",
       "        [1.],\n",
       "        [1.],\n",
       "        [1.],\n",
       "        [1.],\n",
       "        [1.],\n",
       "        [1.],\n",
       "        [1.],\n",
       "        [1.],\n",
       "        [1.],\n",
       "        [1.],\n",
       "        [1.],\n",
       "        [1.],\n",
       "        [1.],\n",
       "        [1.],\n",
       "        [1.],\n",
       "        [1.],\n",
       "        [1.],\n",
       "        [1.],\n",
       "        [1.],\n",
       "        [1.],\n",
       "        [1.],\n",
       "        [1.],\n",
       "        [1.],\n",
       "        [1.],\n",
       "        [1.],\n",
       "        [1.],\n",
       "        [1.],\n",
       "        [1.],\n",
       "        [1.],\n",
       "        [1.],\n",
       "        [1.],\n",
       "        [1.],\n",
       "        [1.],\n",
       "        [1.],\n",
       "        [1.],\n",
       "        [1.],\n",
       "        [1.],\n",
       "        [1.],\n",
       "        [1.],\n",
       "        [1.],\n",
       "        [1.],\n",
       "        [1.],\n",
       "        [1.],\n",
       "        [1.],\n",
       "        [1.],\n",
       "        [1.],\n",
       "        [1.],\n",
       "        [1.],\n",
       "        [1.],\n",
       "        [1.],\n",
       "        [1.],\n",
       "        [1.],\n",
       "        [1.],\n",
       "        [1.],\n",
       "        [1.],\n",
       "        [1.],\n",
       "        [1.],\n",
       "        [1.],\n",
       "        [1.],\n",
       "        [1.],\n",
       "        [1.],\n",
       "        [1.],\n",
       "        [1.],\n",
       "        [1.],\n",
       "        [1.],\n",
       "        [1.],\n",
       "        [1.],\n",
       "        [1.],\n",
       "        [1.],\n",
       "        [1.],\n",
       "        [1.],\n",
       "        [1.],\n",
       "        [1.],\n",
       "        [1.],\n",
       "        [1.],\n",
       "        [1.],\n",
       "        [1.],\n",
       "        [1.],\n",
       "        [1.],\n",
       "        [1.],\n",
       "        [1.],\n",
       "        [1.],\n",
       "        [1.],\n",
       "        [1.],\n",
       "        [1.],\n",
       "        [1.],\n",
       "        [1.],\n",
       "        [1.],\n",
       "        [1.],\n",
       "        [1.],\n",
       "        [1.],\n",
       "        [1.],\n",
       "        [1.],\n",
       "        [1.],\n",
       "        [1.],\n",
       "        [1.],\n",
       "        [1.],\n",
       "        [1.],\n",
       "        [1.],\n",
       "        [1.],\n",
       "        [1.],\n",
       "        [1.],\n",
       "        [1.],\n",
       "        [1.],\n",
       "        [1.],\n",
       "        [1.],\n",
       "        [1.],\n",
       "        [1.],\n",
       "        [1.],\n",
       "        [1.],\n",
       "        [1.],\n",
       "        [1.],\n",
       "        [1.],\n",
       "        [1.],\n",
       "        [1.],\n",
       "        [1.],\n",
       "        [1.],\n",
       "        [1.],\n",
       "        [1.],\n",
       "        [1.],\n",
       "        [1.],\n",
       "        [1.],\n",
       "        [1.],\n",
       "        [1.],\n",
       "        [1.],\n",
       "        [1.],\n",
       "        [1.],\n",
       "        [1.],\n",
       "        [1.],\n",
       "        [1.],\n",
       "        [1.],\n",
       "        [1.],\n",
       "        [1.],\n",
       "        [1.],\n",
       "        [1.],\n",
       "        [1.],\n",
       "        [1.],\n",
       "        [1.],\n",
       "        [1.],\n",
       "        [1.],\n",
       "        [1.],\n",
       "        [1.],\n",
       "        [1.],\n",
       "        [1.],\n",
       "        [1.],\n",
       "        [1.],\n",
       "        [1.],\n",
       "        [1.],\n",
       "        [1.],\n",
       "        [1.],\n",
       "        [1.],\n",
       "        [1.],\n",
       "        [1.]], device='cuda:0')"
      ]
     },
     "execution_count": 26,
     "metadata": {},
     "output_type": "execute_result"
    }
   ],
   "source": [
    "cadreExperimental.model.Amplitudes"
   ]
  },
  {
   "cell_type": "code",
   "execution_count": 27,
   "metadata": {},
   "outputs": [
    {
     "data": {
      "text/plain": [
       "tensor([[[   6.2832],\n",
       "         [  12.5664],\n",
       "         [  18.8496],\n",
       "         ...,\n",
       "         [1595.9291],\n",
       "         [1602.2123],\n",
       "         [1608.4955]],\n",
       "\n",
       "        [[   6.2832],\n",
       "         [  12.5664],\n",
       "         [  18.8496],\n",
       "         ...,\n",
       "         [1595.9291],\n",
       "         [1602.2123],\n",
       "         [1608.4955]],\n",
       "\n",
       "        [[   6.2832],\n",
       "         [  12.5664],\n",
       "         [  18.8496],\n",
       "         ...,\n",
       "         [1595.9291],\n",
       "         [1602.2123],\n",
       "         [1608.4955]],\n",
       "\n",
       "        ...,\n",
       "\n",
       "        [[   6.2832],\n",
       "         [  12.5664],\n",
       "         [  18.8496],\n",
       "         ...,\n",
       "         [1595.9291],\n",
       "         [1602.2123],\n",
       "         [1608.4955]],\n",
       "\n",
       "        [[   6.2832],\n",
       "         [  12.5664],\n",
       "         [  18.8496],\n",
       "         ...,\n",
       "         [1595.9291],\n",
       "         [1602.2123],\n",
       "         [1608.4955]],\n",
       "\n",
       "        [[   6.2832],\n",
       "         [  12.5664],\n",
       "         [  18.8496],\n",
       "         ...,\n",
       "         [1595.9291],\n",
       "         [1602.2123],\n",
       "         [1608.4955]]], device='cuda:0')"
      ]
     },
     "execution_count": 27,
     "metadata": {},
     "output_type": "execute_result"
    }
   ],
   "source": [
    "cadreExperimental.model.DeuxPiKSurT"
   ]
  },
  {
   "cell_type": "code",
   "execution_count": 28,
   "metadata": {},
   "outputs": [
    {
     "data": {
      "text/plain": [
       "Parameter containing:\n",
       "tensor([[1.7216e+00],\n",
       "        [3.7527e-01],\n",
       "        [2.3198e+00],\n",
       "        [5.1885e+00],\n",
       "        [6.2315e-01],\n",
       "        [3.0120e+00],\n",
       "        [8.4378e-01],\n",
       "        [3.6400e-01],\n",
       "        [2.1346e+00],\n",
       "        [5.1149e+00],\n",
       "        [1.4247e+00],\n",
       "        [5.9271e+00],\n",
       "        [3.0739e+00],\n",
       "        [4.9755e+00],\n",
       "        [7.4423e-01],\n",
       "        [6.1789e+00],\n",
       "        [3.9764e+00],\n",
       "        [3.7805e+00],\n",
       "        [1.9617e+00],\n",
       "        [2.6173e+00],\n",
       "        [5.7618e+00],\n",
       "        [2.9726e+00],\n",
       "        [6.1483e+00],\n",
       "        [1.0714e+00],\n",
       "        [4.8036e+00],\n",
       "        [9.2936e-01],\n",
       "        [5.7173e+00],\n",
       "        [5.1981e+00],\n",
       "        [2.9328e+00],\n",
       "        [2.2110e+00],\n",
       "        [4.2156e+00],\n",
       "        [5.6529e+00],\n",
       "        [8.6562e-01],\n",
       "        [2.5307e+00],\n",
       "        [4.0561e+00],\n",
       "        [6.0900e+00],\n",
       "        [2.1386e+00],\n",
       "        [5.8214e+00],\n",
       "        [5.1678e+00],\n",
       "        [5.0024e+00],\n",
       "        [3.3505e+00],\n",
       "        [1.5833e+00],\n",
       "        [3.6195e-01],\n",
       "        [4.1341e+00],\n",
       "        [8.1473e-01],\n",
       "        [9.0363e-01],\n",
       "        [2.8590e+00],\n",
       "        [1.0968e+00],\n",
       "        [5.0850e+00],\n",
       "        [3.8114e+00],\n",
       "        [7.3303e-01],\n",
       "        [5.1249e-01],\n",
       "        [1.0212e+00],\n",
       "        [5.5653e+00],\n",
       "        [3.8336e+00],\n",
       "        [4.0847e+00],\n",
       "        [7.9792e-01],\n",
       "        [1.0331e+00],\n",
       "        [4.9014e+00],\n",
       "        [1.0555e+00],\n",
       "        [4.5754e+00],\n",
       "        [5.9255e+00],\n",
       "        [3.7235e+00],\n",
       "        [3.6653e+00],\n",
       "        [4.0621e+00],\n",
       "        [5.2462e+00],\n",
       "        [6.1618e+00],\n",
       "        [1.2714e-01],\n",
       "        [4.5056e+00],\n",
       "        [1.3256e+00],\n",
       "        [5.7566e+00],\n",
       "        [4.8767e+00],\n",
       "        [2.4478e+00],\n",
       "        [5.6597e+00],\n",
       "        [4.0485e+00],\n",
       "        [4.6205e+00],\n",
       "        [4.6347e+00],\n",
       "        [2.1832e+00],\n",
       "        [3.1742e+00],\n",
       "        [4.2351e+00],\n",
       "        [3.4009e+00],\n",
       "        [1.0790e+00],\n",
       "        [5.3255e+00],\n",
       "        [3.1470e-03],\n",
       "        [1.8180e+00],\n",
       "        [2.3860e+00],\n",
       "        [1.8462e+00],\n",
       "        [2.0302e+00],\n",
       "        [6.0293e+00],\n",
       "        [2.9124e+00],\n",
       "        [3.5434e+00],\n",
       "        [1.5821e+00],\n",
       "        [3.3588e+00],\n",
       "        [5.6135e+00],\n",
       "        [1.2111e+00],\n",
       "        [2.6711e+00],\n",
       "        [1.0909e+00],\n",
       "        [5.0066e+00],\n",
       "        [4.5055e+00],\n",
       "        [3.4909e+00],\n",
       "        [6.2533e+00],\n",
       "        [3.7573e+00],\n",
       "        [5.5557e+00],\n",
       "        [4.2779e+00],\n",
       "        [4.1621e+00],\n",
       "        [2.9028e+00],\n",
       "        [1.3398e+00],\n",
       "        [2.0517e+00],\n",
       "        [4.3849e+00],\n",
       "        [1.6646e+00],\n",
       "        [4.9106e+00],\n",
       "        [2.8764e-01],\n",
       "        [2.6254e+00],\n",
       "        [5.4804e+00],\n",
       "        [5.2491e+00],\n",
       "        [3.0549e+00],\n",
       "        [2.9642e+00],\n",
       "        [4.9109e+00],\n",
       "        [1.4557e+00],\n",
       "        [5.7859e+00],\n",
       "        [4.5595e+00],\n",
       "        [3.8633e+00],\n",
       "        [9.4480e-01],\n",
       "        [5.5381e+00],\n",
       "        [2.6403e+00],\n",
       "        [6.1324e+00],\n",
       "        [5.5310e+00],\n",
       "        [2.0870e-01],\n",
       "        [6.1573e+00],\n",
       "        [1.4281e+00],\n",
       "        [1.1426e+00],\n",
       "        [4.7442e+00],\n",
       "        [2.2446e+00],\n",
       "        [3.6202e-01],\n",
       "        [1.4639e+00],\n",
       "        [3.6744e-01],\n",
       "        [3.9730e+00],\n",
       "        [6.2781e+00],\n",
       "        [2.3289e+00],\n",
       "        [4.9557e+00],\n",
       "        [2.5638e+00],\n",
       "        [2.6154e+00],\n",
       "        [2.4228e+00],\n",
       "        [5.5690e+00],\n",
       "        [3.8584e+00],\n",
       "        [2.2889e-01],\n",
       "        [3.4260e+00],\n",
       "        [4.2713e+00],\n",
       "        [4.1509e+00],\n",
       "        [4.1813e+00],\n",
       "        [4.8526e+00],\n",
       "        [4.3133e+00],\n",
       "        [6.2086e+00],\n",
       "        [2.0409e+00],\n",
       "        [2.3129e+00],\n",
       "        [9.0449e-01],\n",
       "        [5.5050e+00],\n",
       "        [5.3881e+00],\n",
       "        [4.8149e+00],\n",
       "        [4.3034e-01],\n",
       "        [4.2430e+00],\n",
       "        [1.8202e+00],\n",
       "        [4.8777e+00],\n",
       "        [5.6028e-01],\n",
       "        [1.6586e+00],\n",
       "        [2.5941e+00],\n",
       "        [5.1983e+00],\n",
       "        [2.7662e+00],\n",
       "        [6.2761e+00],\n",
       "        [2.1404e+00],\n",
       "        [5.7603e+00],\n",
       "        [7.4554e-01],\n",
       "        [3.9499e+00],\n",
       "        [4.8262e+00],\n",
       "        [5.0620e+00],\n",
       "        [5.9651e+00],\n",
       "        [2.4601e+00],\n",
       "        [2.3964e+00],\n",
       "        [3.1569e+00],\n",
       "        [1.9615e+00],\n",
       "        [6.2743e+00],\n",
       "        [5.7946e+00],\n",
       "        [2.3681e+00],\n",
       "        [5.1088e+00],\n",
       "        [5.2771e+00],\n",
       "        [3.0033e+00],\n",
       "        [4.2714e+00],\n",
       "        [7.8574e-01],\n",
       "        [5.7604e+00],\n",
       "        [5.2496e+00],\n",
       "        [1.0001e+00],\n",
       "        [6.2470e+00],\n",
       "        [4.4796e+00],\n",
       "        [7.5895e-01],\n",
       "        [1.3536e+00],\n",
       "        [4.8846e+00],\n",
       "        [3.5198e+00],\n",
       "        [3.0818e+00],\n",
       "        [5.8904e+00],\n",
       "        [2.4714e+00],\n",
       "        [3.8869e+00],\n",
       "        [2.0780e+00],\n",
       "        [2.2855e+00],\n",
       "        [1.5807e+00],\n",
       "        [1.7677e-01],\n",
       "        [2.9040e+00],\n",
       "        [5.0294e+00],\n",
       "        [1.0287e+00],\n",
       "        [2.7864e-01],\n",
       "        [4.8755e+00],\n",
       "        [3.5444e+00],\n",
       "        [4.4145e+00],\n",
       "        [2.0247e+00],\n",
       "        [1.1396e+00],\n",
       "        [2.0506e+00],\n",
       "        [5.4906e+00],\n",
       "        [1.1016e+00],\n",
       "        [4.2798e+00],\n",
       "        [4.1982e+00],\n",
       "        [1.0045e+00],\n",
       "        [3.1504e-01],\n",
       "        [3.1930e+00],\n",
       "        [3.8077e-01],\n",
       "        [3.0279e+00],\n",
       "        [2.3525e+00],\n",
       "        [2.4490e-01],\n",
       "        [3.2873e+00],\n",
       "        [2.1768e+00],\n",
       "        [4.2378e+00],\n",
       "        [6.2774e+00],\n",
       "        [4.5322e+00],\n",
       "        [1.5244e+00],\n",
       "        [5.8996e+00],\n",
       "        [5.0267e+00],\n",
       "        [1.5710e+00],\n",
       "        [2.4989e+00],\n",
       "        [9.5808e-01],\n",
       "        [3.6402e+00],\n",
       "        [5.3852e+00],\n",
       "        [5.4878e+00],\n",
       "        [1.4339e+00],\n",
       "        [2.3518e+00],\n",
       "        [5.1639e+00],\n",
       "        [4.4502e+00],\n",
       "        [5.3119e+00],\n",
       "        [5.9008e+00],\n",
       "        [3.8053e+00],\n",
       "        [4.2896e+00],\n",
       "        [2.2178e+00],\n",
       "        [4.0013e+00],\n",
       "        [2.0412e+00],\n",
       "        [6.6665e-01],\n",
       "        [2.2591e+00],\n",
       "        [6.2262e-02],\n",
       "        [2.6469e+00],\n",
       "        [1.0458e+00]], device='cuda:0', requires_grad=True)"
      ]
     },
     "execution_count": 28,
     "metadata": {},
     "output_type": "execute_result"
    }
   ],
   "source": [
    "cadreExperimental.model.phase"
   ]
  },
  {
   "cell_type": "code",
   "execution_count": 25,
   "metadata": {},
   "outputs": [
    {
     "data": {
      "text/plain": [
       "tensor([[[ 0,  1,  2,  3,  4,  5,  6,  7]],\n",
       "\n",
       "        [[ 8,  9, 10, 11, 12, 13, 14, 15]],\n",
       "\n",
       "        [[16, 17, 18, 19, 20, 21, 22, 23]],\n",
       "\n",
       "        [[24, 25, 26, 27, 28, 29, 30, 31]],\n",
       "\n",
       "        [[32, 33, 34, 35, 36, 37, 38, 39]]])"
      ]
     },
     "execution_count": 25,
     "metadata": {},
     "output_type": "execute_result"
    }
   ],
   "source": [
    "t=torch.arange(40).reshape(5,8)\n",
    "t.unsqueeze_(1)"
   ]
  },
  {
   "cell_type": "code",
   "execution_count": 26,
   "metadata": {},
   "outputs": [
    {
     "data": {
      "text/plain": [
       "tensor([[[ 0],\n",
       "         [ 1],\n",
       "         [ 2]],\n",
       "\n",
       "        [[ 3],\n",
       "         [ 4],\n",
       "         [ 5]],\n",
       "\n",
       "        [[ 6],\n",
       "         [ 7],\n",
       "         [ 8]],\n",
       "\n",
       "        [[ 9],\n",
       "         [10],\n",
       "         [11]],\n",
       "\n",
       "        [[12],\n",
       "         [13],\n",
       "         [14]]])"
      ]
     },
     "execution_count": 26,
     "metadata": {},
     "output_type": "execute_result"
    }
   ],
   "source": [
    "DeuxPiKSurT = torch.arange(15).reshape(5,3)\n",
    "DeuxPiKSurT.unsqueeze_(2)"
   ]
  },
  {
   "cell_type": "code",
   "execution_count": 27,
   "metadata": {},
   "outputs": [
    {
     "name": "stdout",
     "output_type": "stream",
     "text": [
      "torch.Size([5, 1, 8]) torch.Size([5, 3, 1])\n"
     ]
    }
   ],
   "source": [
    "print (t.size() , DeuxPiKSurT.size())"
   ]
  },
  {
   "cell_type": "code",
   "execution_count": 48,
   "metadata": {},
   "outputs": [
    {
     "data": {
      "text/plain": [
       "tensor([[[  0,   0,   0,   0,   0,   0,   0,   0],\n",
       "         [  0,   1,   2,   3,   4,   5,   6,   7],\n",
       "         [  0,   2,   4,   6,   8,  10,  12,  14]],\n",
       "\n",
       "        [[ 24,  27,  30,  33,  36,  39,  42,  45],\n",
       "         [ 32,  36,  40,  44,  48,  52,  56,  60],\n",
       "         [ 40,  45,  50,  55,  60,  65,  70,  75]],\n",
       "\n",
       "        [[ 96, 102, 108, 114, 120, 126, 132, 138],\n",
       "         [112, 119, 126, 133, 140, 147, 154, 161],\n",
       "         [128, 136, 144, 152, 160, 168, 176, 184]],\n",
       "\n",
       "        [[216, 225, 234, 243, 252, 261, 270, 279],\n",
       "         [240, 250, 260, 270, 280, 290, 300, 310],\n",
       "         [264, 275, 286, 297, 308, 319, 330, 341]],\n",
       "\n",
       "        [[384, 396, 408, 420, 432, 444, 456, 468],\n",
       "         [416, 429, 442, 455, 468, 481, 494, 507],\n",
       "         [448, 462, 476, 490, 504, 518, 532, 546]]])"
      ]
     },
     "execution_count": 48,
     "metadata": {},
     "output_type": "execute_result"
    }
   ],
   "source": [
    "DeuxPiKSurT @ t"
   ]
  },
  {
   "cell_type": "code",
   "execution_count": 41,
   "metadata": {},
   "outputs": [
    {
     "data": {
      "text/plain": [
       "tensor([[[  0,   0,   0,   0,   0,   0,   0,   0],\n",
       "         [  0,   1,   2,   3,   4,   5,   6,   7],\n",
       "         [  0,   2,   4,   6,   8,  10,  12,  14]],\n",
       "\n",
       "        [[ 24,  27,  30,  33,  36,  39,  42,  45],\n",
       "         [ 32,  36,  40,  44,  48,  52,  56,  60],\n",
       "         [ 40,  45,  50,  55,  60,  65,  70,  75]],\n",
       "\n",
       "        [[ 96, 102, 108, 114, 120, 126, 132, 138],\n",
       "         [112, 119, 126, 133, 140, 147, 154, 161],\n",
       "         [128, 136, 144, 152, 160, 168, 176, 184]],\n",
       "\n",
       "        [[216, 225, 234, 243, 252, 261, 270, 279],\n",
       "         [240, 250, 260, 270, 280, 290, 300, 310],\n",
       "         [264, 275, 286, 297, 308, 319, 330, 341]],\n",
       "\n",
       "        [[384, 396, 408, 420, 432, 444, 456, 468],\n",
       "         [416, 429, 442, 455, 468, 481, 494, 507],\n",
       "         [448, 462, 476, 490, 504, 518, 532, 546]]])"
      ]
     },
     "execution_count": 41,
     "metadata": {},
     "output_type": "execute_result"
    }
   ],
   "source": [
    "DeuxPiKSurT.matmul(t)"
   ]
  },
  {
   "cell_type": "code",
   "execution_count": 44,
   "metadata": {},
   "outputs": [
    {
     "data": {
      "text/plain": [
       "tensor([[[  0,   0,   0,   0,   0,   0,   0,   0],\n",
       "         [  0,   1,   2,   3,   4,   5,   6,   7],\n",
       "         [  0,   2,   4,   6,   8,  10,  12,  14]],\n",
       "\n",
       "        [[ 24,  27,  30,  33,  36,  39,  42,  45],\n",
       "         [ 32,  36,  40,  44,  48,  52,  56,  60],\n",
       "         [ 40,  45,  50,  55,  60,  65,  70,  75]],\n",
       "\n",
       "        [[ 96, 102, 108, 114, 120, 126, 132, 138],\n",
       "         [112, 119, 126, 133, 140, 147, 154, 161],\n",
       "         [128, 136, 144, 152, 160, 168, 176, 184]],\n",
       "\n",
       "        [[216, 225, 234, 243, 252, 261, 270, 279],\n",
       "         [240, 250, 260, 270, 280, 290, 300, 310],\n",
       "         [264, 275, 286, 297, 308, 319, 330, 341]],\n",
       "\n",
       "        [[384, 396, 408, 420, 432, 444, 456, 468],\n",
       "         [416, 429, 442, 455, 468, 481, 494, 507],\n",
       "         [448, 462, 476, 490, 504, 518, 532, 546]]])"
      ]
     },
     "execution_count": 44,
     "metadata": {},
     "output_type": "execute_result"
    }
   ],
   "source": [
    "DeuxPiKSurT * t"
   ]
  },
  {
   "cell_type": "code",
   "execution_count": 87,
   "metadata": {},
   "outputs": [
    {
     "ename": "RuntimeError",
     "evalue": "contracted dimensions need to match, but first has size 8 in dim 1 and second has size 3 in dim 1",
     "output_type": "error",
     "traceback": [
      "\u001b[1;31m---------------------------------------------------------------------------\u001b[0m",
      "\u001b[1;31mRuntimeError\u001b[0m                              Traceback (most recent call last)",
      "\u001b[1;32mc:\\Users\\herve\\OneDrive\\Projet\\MinAmp\\test_tensor.ipynb Cell 21'\u001b[0m in \u001b[0;36m<cell line: 1>\u001b[1;34m()\u001b[0m\n\u001b[1;32m----> <a href='vscode-notebook-cell:/c%3A/Users/herve/OneDrive/Projet/MinAmp/test_tensor.ipynb#ch0000021?line=0'>1</a>\u001b[0m torch\u001b[39m.\u001b[39;49mtensordot(t, DeuxPiKSurT, dims\u001b[39m=\u001b[39;49m([\u001b[39m1\u001b[39;49m, \u001b[39m1\u001b[39;49m], [\u001b[39m1\u001b[39;49m, \u001b[39m1\u001b[39;49m]))\n",
      "File \u001b[1;32mc:\\Users\\herve\\anaconda3\\envs\\PytorchGPU\\lib\\site-packages\\torch\\functional.py:1159\u001b[0m, in \u001b[0;36mtensordot\u001b[1;34m(a, b, dims, out)\u001b[0m\n\u001b[0;32m   <a href='file:///c%3A/Users/herve/anaconda3/envs/PytorchGPU/lib/site-packages/torch/functional.py?line=1155'>1156</a>\u001b[0m     dims_b \u001b[39m=\u001b[39m \u001b[39mlist\u001b[39m(\u001b[39mrange\u001b[39m(dims))\n\u001b[0;32m   <a href='file:///c%3A/Users/herve/anaconda3/envs/PytorchGPU/lib/site-packages/torch/functional.py?line=1157'>1158</a>\u001b[0m \u001b[39mif\u001b[39;00m out \u001b[39mis\u001b[39;00m \u001b[39mNone\u001b[39;00m:\n\u001b[1;32m-> <a href='file:///c%3A/Users/herve/anaconda3/envs/PytorchGPU/lib/site-packages/torch/functional.py?line=1158'>1159</a>\u001b[0m     \u001b[39mreturn\u001b[39;00m _VF\u001b[39m.\u001b[39;49mtensordot(a, b, dims_a, dims_b)  \u001b[39m# type: ignore[attr-defined]\u001b[39;00m\n\u001b[0;32m   <a href='file:///c%3A/Users/herve/anaconda3/envs/PytorchGPU/lib/site-packages/torch/functional.py?line=1159'>1160</a>\u001b[0m \u001b[39melse\u001b[39;00m:\n\u001b[0;32m   <a href='file:///c%3A/Users/herve/anaconda3/envs/PytorchGPU/lib/site-packages/torch/functional.py?line=1160'>1161</a>\u001b[0m     \u001b[39mreturn\u001b[39;00m _VF\u001b[39m.\u001b[39mtensordot(a, b, dims_a, dims_b, out\u001b[39m=\u001b[39mout)\n",
      "\u001b[1;31mRuntimeError\u001b[0m: contracted dimensions need to match, but first has size 8 in dim 1 and second has size 3 in dim 1"
     ]
    }
   ],
   "source": [
    "torch.tensordot(t, DeuxPiKSurT, dims=([1, 0], [1, 0]))"
   ]
  },
  {
   "cell_type": "code",
   "execution_count": 88,
   "metadata": {},
   "outputs": [
    {
     "ename": "RuntimeError",
     "evalue": "mat1 and mat2 shapes cannot be multiplied (5x8 and 5x3)",
     "output_type": "error",
     "traceback": [
      "\u001b[1;31m---------------------------------------------------------------------------\u001b[0m",
      "\u001b[1;31mRuntimeError\u001b[0m                              Traceback (most recent call last)",
      "\u001b[1;32mc:\\Users\\herve\\OneDrive\\Projet\\MinAmp\\test_tensor.ipynb Cell 22'\u001b[0m in \u001b[0;36m<cell line: 1>\u001b[1;34m()\u001b[0m\n\u001b[1;32m----> <a href='vscode-notebook-cell:/c%3A/Users/herve/OneDrive/Projet/MinAmp/test_tensor.ipynb#ch0000023?line=0'>1</a>\u001b[0m torch\u001b[39m.\u001b[39;49mmatmul(t, DeuxPiKSurT)\n",
      "\u001b[1;31mRuntimeError\u001b[0m: mat1 and mat2 shapes cannot be multiplied (5x8 and 5x3)"
     ]
    }
   ],
   "source": [
    "torch.matmul(t, DeuxPiKSurT)"
   ]
  },
  {
   "cell_type": "code",
   "execution_count": null,
   "metadata": {},
   "outputs": [],
   "source": []
  }
 ],
 "metadata": {
  "interpreter": {
   "hash": "a41aee635c112416523333c4bec41ab10302aa6cbdb221f42c7bb0d6e2727e74"
  },
  "kernelspec": {
   "display_name": "Python 3.9.7 ('PytorchGPU')",
   "language": "python",
   "name": "python3"
  },
  "language_info": {
   "codemirror_mode": {
    "name": "ipython",
    "version": 3
   },
   "file_extension": ".py",
   "mimetype": "text/x-python",
   "name": "python",
   "nbconvert_exporter": "python",
   "pygments_lexer": "ipython3",
   "version": "3.9.7"
  },
  "orig_nbformat": 4
 },
 "nbformat": 4,
 "nbformat_minor": 2
}
